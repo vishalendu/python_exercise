{
 "cells": [
  {
   "cell_type": "code",
   "execution_count": 1,
   "metadata": {},
   "outputs": [],
   "source": [
    "import pandas as pd\n",
    "import datetime as dat\n",
    "from datetime import datetime as dt\n"
   ]
  },
  {
   "cell_type": "code",
   "execution_count": 22,
   "metadata": {},
   "outputs": [],
   "source": [
    "bd = dat.datetime(1980,8,14,1,30)"
   ]
  },
  {
   "cell_type": "code",
   "execution_count": 25,
   "metadata": {},
   "outputs": [
    {
     "name": "stdout",
     "output_type": "stream",
     "text": [
      "1980-08-14 01:30:00 Thursday\n"
     ]
    }
   ],
   "source": [
    "print(bd,bd.strftime('%A'))"
   ]
  },
  {
   "cell_type": "code",
   "execution_count": 36,
   "metadata": {},
   "outputs": [],
   "source": [
    "bd1 = pd.Timestamp('13-08-1980')"
   ]
  },
  {
   "cell_type": "code",
   "execution_count": 37,
   "metadata": {},
   "outputs": [
    {
     "data": {
      "text/plain": [
       "Timestamp('1980-08-13 00:00:00')"
      ]
     },
     "execution_count": 37,
     "metadata": {},
     "output_type": "execute_result"
    }
   ],
   "source": [
    "bd1"
   ]
  },
  {
   "cell_type": "code",
   "execution_count": 38,
   "metadata": {},
   "outputs": [
    {
     "data": {
      "text/plain": [
       "Timestamp('2020-04-07 10:00:01.200000')"
      ]
     },
     "execution_count": 38,
     "metadata": {},
     "output_type": "execute_result"
    }
   ],
   "source": [
    "pd.Timestamp(\"2020-04-07T10:00:01.200\")"
   ]
  },
  {
   "cell_type": "code",
   "execution_count": 45,
   "metadata": {},
   "outputs": [
    {
     "data": {
      "text/plain": [
       "Timestamp('2020-04-07 20:42:42')"
      ]
     },
     "execution_count": 45,
     "metadata": {},
     "output_type": "execute_result"
    }
   ],
   "source": [
    "pd.to_datetime(1586292162,unit='s')"
   ]
  },
  {
   "cell_type": "code",
   "execution_count": 62,
   "metadata": {},
   "outputs": [
    {
     "data": {
      "text/plain": [
       "DatetimeIndex(['2020-02-01', '2020-02-02', '2020-02-03', '2020-02-04',\n",
       "               '2020-02-05', '2020-02-06', '2020-02-07', '2020-02-08',\n",
       "               '2020-02-09', '2020-02-10', '2020-02-11', '2020-02-12',\n",
       "               '2020-02-13', '2020-02-14', '2020-02-15', '2020-02-16',\n",
       "               '2020-02-17', '2020-02-18', '2020-02-19', '2020-02-20',\n",
       "               '2020-02-21', '2020-02-22', '2020-02-23', '2020-02-24',\n",
       "               '2020-02-25', '2020-02-26', '2020-02-27', '2020-02-28',\n",
       "               '2020-02-29', '2020-03-01'],\n",
       "              dtype='datetime64[ns]', freq='D')"
      ]
     },
     "execution_count": 62,
     "metadata": {},
     "output_type": "execute_result"
    }
   ],
   "source": [
    "# frequency is normal days\n",
    "pd.date_range(start='2020-02-01',end='2020-03-01',freq='D')"
   ]
  },
  {
   "cell_type": "code",
   "execution_count": 63,
   "metadata": {},
   "outputs": [
    {
     "data": {
      "text/plain": [
       "DatetimeIndex(['2020-02-03', '2020-02-04', '2020-02-05', '2020-02-06',\n",
       "               '2020-02-07', '2020-02-10', '2020-02-11', '2020-02-12',\n",
       "               '2020-02-13', '2020-02-14', '2020-02-17', '2020-02-18',\n",
       "               '2020-02-19', '2020-02-20', '2020-02-21', '2020-02-24',\n",
       "               '2020-02-25', '2020-02-26', '2020-02-27', '2020-02-28'],\n",
       "              dtype='datetime64[ns]', freq='B')"
      ]
     },
     "execution_count": 63,
     "metadata": {},
     "output_type": "execute_result"
    }
   ],
   "source": [
    "# frequency is  business days\n",
    "pd.date_range(start='2020-02-01',end='2020-03-01',freq='B')"
   ]
  },
  {
   "cell_type": "code",
   "execution_count": 64,
   "metadata": {},
   "outputs": [
    {
     "data": {
      "text/plain": [
       "DatetimeIndex(['2020-02-02', '2020-02-09', '2020-02-16', '2020-02-23',\n",
       "               '2020-03-01'],\n",
       "              dtype='datetime64[ns]', freq='W-SUN')"
      ]
     },
     "execution_count": 64,
     "metadata": {},
     "output_type": "execute_result"
    }
   ],
   "source": [
    "# frequency is  1 day  per week = every Sunday\n",
    "pd.date_range(start='2020-02-01',end='2020-03-01',freq='W')"
   ]
  },
  {
   "cell_type": "code",
   "execution_count": 65,
   "metadata": {},
   "outputs": [
    {
     "data": {
      "text/plain": [
       "DatetimeIndex(['2020-02-07', '2020-02-14', '2020-02-21', '2020-02-28'], dtype='datetime64[ns]', freq='W-FRI')"
      ]
     },
     "execution_count": 65,
     "metadata": {},
     "output_type": "execute_result"
    }
   ],
   "source": [
    "# frequency is 1 day  per week = every friday\n",
    "pd.date_range(start='2020-02-01',end='2020-03-01',freq='W-FRI')"
   ]
  },
  {
   "cell_type": "code",
   "execution_count": 67,
   "metadata": {},
   "outputs": [
    {
     "data": {
      "text/plain": [
       "DatetimeIndex(['2020-01-31', '2020-02-29', '2020-03-31', '2020-04-30',\n",
       "               '2020-05-31', '2020-06-30', '2020-07-31', '2020-08-31',\n",
       "               '2020-09-30', '2020-10-31', '2020-11-30'],\n",
       "              dtype='datetime64[ns]', freq='M')"
      ]
     },
     "execution_count": 67,
     "metadata": {},
     "output_type": "execute_result"
    }
   ],
   "source": [
    "# frequency is 1 day  per month = last day  of month  default\n",
    "pd.date_range(start='2020-01-01',end='2020-12-01',freq='M')"
   ]
  },
  {
   "cell_type": "code",
   "execution_count": 68,
   "metadata": {},
   "outputs": [
    {
     "data": {
      "text/plain": [
       "DatetimeIndex(['2020-01-01', '2020-02-01', '2020-03-01', '2020-04-01',\n",
       "               '2020-05-01', '2020-06-01', '2020-07-01', '2020-08-01',\n",
       "               '2020-09-01', '2020-10-01', '2020-11-01', '2020-12-01'],\n",
       "              dtype='datetime64[ns]', freq='MS')"
      ]
     },
     "execution_count": 68,
     "metadata": {},
     "output_type": "execute_result"
    }
   ],
   "source": [
    "# frequency is 1 day  per month = 1st day  of month \n",
    "pd.date_range(start='2020-01-01',end='2020-12-01',freq='MS')"
   ]
  },
  {
   "cell_type": "code",
   "execution_count": 69,
   "metadata": {},
   "outputs": [
    {
     "data": {
      "text/plain": [
       "DatetimeIndex(['2020-01-01', '2020-01-02', '2020-01-03', '2020-01-06',\n",
       "               '2020-01-07', '2020-01-08', '2020-01-09', '2020-01-10',\n",
       "               '2020-01-13', '2020-01-14', '2020-01-15', '2020-01-16',\n",
       "               '2020-01-17', '2020-01-20', '2020-01-21', '2020-01-22',\n",
       "               '2020-01-23', '2020-01-24', '2020-01-27', '2020-01-28',\n",
       "               '2020-01-29', '2020-01-30', '2020-01-31', '2020-02-03',\n",
       "               '2020-02-04', '2020-02-05', '2020-02-06', '2020-02-07',\n",
       "               '2020-02-10', '2020-02-11', '2020-02-12', '2020-02-13',\n",
       "               '2020-02-14', '2020-02-17', '2020-02-18', '2020-02-19',\n",
       "               '2020-02-20', '2020-02-21', '2020-02-24', '2020-02-25',\n",
       "               '2020-02-26', '2020-02-27', '2020-02-28', '2020-03-02',\n",
       "               '2020-03-03', '2020-03-04', '2020-03-05', '2020-03-06',\n",
       "               '2020-03-09', '2020-03-10', '2020-03-11', '2020-03-12',\n",
       "               '2020-03-13', '2020-03-16', '2020-03-17', '2020-03-18',\n",
       "               '2020-03-19', '2020-03-20', '2020-03-23', '2020-03-24'],\n",
       "              dtype='datetime64[ns]', freq='B')"
      ]
     },
     "execution_count": 69,
     "metadata": {},
     "output_type": "execute_result"
    }
   ],
   "source": [
    "pd.date_range(start='2020-01-01',periods=60,freq=\"B\")"
   ]
  },
  {
   "cell_type": "code",
   "execution_count": 74,
   "metadata": {},
   "outputs": [],
   "source": [
    "dates = pd.date_range(end='2020-01-31',periods=60,freq=\"B\")"
   ]
  },
  {
   "cell_type": "code",
   "execution_count": 75,
   "metadata": {},
   "outputs": [],
   "source": [
    "dates = pd.Series(dates)"
   ]
  },
  {
   "cell_type": "code",
   "execution_count": 76,
   "metadata": {},
   "outputs": [
    {
     "data": {
      "text/plain": [
       "0        Monday\n",
       "1       Tuesday\n",
       "2     Wednesday\n",
       "3      Thursday\n",
       "4        Friday\n",
       "5        Monday\n",
       "6       Tuesday\n",
       "7     Wednesday\n",
       "8      Thursday\n",
       "9        Friday\n",
       "10       Monday\n",
       "11      Tuesday\n",
       "12    Wednesday\n",
       "13     Thursday\n",
       "14       Friday\n",
       "15       Monday\n",
       "16      Tuesday\n",
       "17    Wednesday\n",
       "18     Thursday\n",
       "19       Friday\n",
       "20       Monday\n",
       "21      Tuesday\n",
       "22    Wednesday\n",
       "23     Thursday\n",
       "24       Friday\n",
       "25       Monday\n",
       "26      Tuesday\n",
       "27    Wednesday\n",
       "28     Thursday\n",
       "29       Friday\n",
       "30       Monday\n",
       "31      Tuesday\n",
       "32    Wednesday\n",
       "33     Thursday\n",
       "34       Friday\n",
       "35       Monday\n",
       "36      Tuesday\n",
       "37    Wednesday\n",
       "38     Thursday\n",
       "39       Friday\n",
       "40       Monday\n",
       "41      Tuesday\n",
       "42    Wednesday\n",
       "43     Thursday\n",
       "44       Friday\n",
       "45       Monday\n",
       "46      Tuesday\n",
       "47    Wednesday\n",
       "48     Thursday\n",
       "49       Friday\n",
       "50       Monday\n",
       "51      Tuesday\n",
       "52    Wednesday\n",
       "53     Thursday\n",
       "54       Friday\n",
       "55       Monday\n",
       "56      Tuesday\n",
       "57    Wednesday\n",
       "58     Thursday\n",
       "59       Friday\n",
       "dtype: object"
      ]
     },
     "execution_count": 76,
     "metadata": {},
     "output_type": "execute_result"
    }
   ],
   "source": [
    "dates.dt.weekday_name"
   ]
  },
  {
   "cell_type": "code",
   "execution_count": 80,
   "metadata": {},
   "outputs": [],
   "source": [
    "import pandas as pd\n",
    "import datetime as dat\n",
    "from datetime import datetime as dt\n",
    "from pandas_datareader import data"
   ]
  },
  {
   "cell_type": "code",
   "execution_count": 86,
   "metadata": {},
   "outputs": [],
   "source": [
    "company = \"MSFT\"\n",
    "start = \"2010-11-01\"\n",
    "end = \"2017-04-07\"\n",
    "\n",
    "stock = data.DataReader(name=company,data_source=\"yahoo\",start=start,end=end)"
   ]
  },
  {
   "cell_type": "code",
   "execution_count": 87,
   "metadata": {},
   "outputs": [
    {
     "name": "stdout",
     "output_type": "stream",
     "text": [
      "<class 'pandas.core.frame.DataFrame'>\n",
      "DatetimeIndex: 1620 entries, 2010-11-01 to 2017-04-07\n",
      "Data columns (total 6 columns):\n",
      "High         1620 non-null float64\n",
      "Low          1620 non-null float64\n",
      "Open         1620 non-null float64\n",
      "Close        1620 non-null float64\n",
      "Volume       1620 non-null float64\n",
      "Adj Close    1620 non-null float64\n",
      "dtypes: float64(6)\n",
      "memory usage: 88.6 KB\n"
     ]
    }
   ],
   "source": [
    "stock.info()"
   ]
  },
  {
   "cell_type": "code",
   "execution_count": 88,
   "metadata": {},
   "outputs": [
    {
     "data": {
      "text/html": [
       "<div>\n",
       "<style scoped>\n",
       "    .dataframe tbody tr th:only-of-type {\n",
       "        vertical-align: middle;\n",
       "    }\n",
       "\n",
       "    .dataframe tbody tr th {\n",
       "        vertical-align: top;\n",
       "    }\n",
       "\n",
       "    .dataframe thead th {\n",
       "        text-align: right;\n",
       "    }\n",
       "</style>\n",
       "<table border=\"1\" class=\"dataframe\">\n",
       "  <thead>\n",
       "    <tr style=\"text-align: right;\">\n",
       "      <th></th>\n",
       "      <th>High</th>\n",
       "      <th>Low</th>\n",
       "      <th>Open</th>\n",
       "      <th>Close</th>\n",
       "      <th>Volume</th>\n",
       "      <th>Adj Close</th>\n",
       "    </tr>\n",
       "    <tr>\n",
       "      <th>Date</th>\n",
       "      <th></th>\n",
       "      <th></th>\n",
       "      <th></th>\n",
       "      <th></th>\n",
       "      <th></th>\n",
       "      <th></th>\n",
       "    </tr>\n",
       "  </thead>\n",
       "  <tbody>\n",
       "    <tr>\n",
       "      <th>2010-11-01</th>\n",
       "      <td>27.219999</td>\n",
       "      <td>26.700001</td>\n",
       "      <td>26.879999</td>\n",
       "      <td>26.950001</td>\n",
       "      <td>61912100.0</td>\n",
       "      <td>21.463259</td>\n",
       "    </tr>\n",
       "    <tr>\n",
       "      <th>2010-11-02</th>\n",
       "      <td>27.420000</td>\n",
       "      <td>27.020000</td>\n",
       "      <td>27.059999</td>\n",
       "      <td>27.389999</td>\n",
       "      <td>54402100.0</td>\n",
       "      <td>21.813683</td>\n",
       "    </tr>\n",
       "    <tr>\n",
       "      <th>2010-11-03</th>\n",
       "      <td>27.490000</td>\n",
       "      <td>26.959999</td>\n",
       "      <td>27.459999</td>\n",
       "      <td>27.030001</td>\n",
       "      <td>110255300.0</td>\n",
       "      <td>21.526970</td>\n",
       "    </tr>\n",
       "    <tr>\n",
       "      <th>2010-11-04</th>\n",
       "      <td>27.430000</td>\n",
       "      <td>27.010000</td>\n",
       "      <td>27.410000</td>\n",
       "      <td>27.139999</td>\n",
       "      <td>93599300.0</td>\n",
       "      <td>21.614580</td>\n",
       "    </tr>\n",
       "    <tr>\n",
       "      <th>2010-11-05</th>\n",
       "      <td>27.190001</td>\n",
       "      <td>26.530001</td>\n",
       "      <td>27.170000</td>\n",
       "      <td>26.850000</td>\n",
       "      <td>110953700.0</td>\n",
       "      <td>21.383619</td>\n",
       "    </tr>\n",
       "    <tr>\n",
       "      <th>...</th>\n",
       "      <td>...</td>\n",
       "      <td>...</td>\n",
       "      <td>...</td>\n",
       "      <td>...</td>\n",
       "      <td>...</td>\n",
       "      <td>...</td>\n",
       "    </tr>\n",
       "    <tr>\n",
       "      <th>2017-04-03</th>\n",
       "      <td>65.940002</td>\n",
       "      <td>65.190002</td>\n",
       "      <td>65.809998</td>\n",
       "      <td>65.550003</td>\n",
       "      <td>20400900.0</td>\n",
       "      <td>62.315228</td>\n",
       "    </tr>\n",
       "    <tr>\n",
       "      <th>2017-04-04</th>\n",
       "      <td>65.809998</td>\n",
       "      <td>65.279999</td>\n",
       "      <td>65.389999</td>\n",
       "      <td>65.730003</td>\n",
       "      <td>12997400.0</td>\n",
       "      <td>62.486347</td>\n",
       "    </tr>\n",
       "    <tr>\n",
       "      <th>2017-04-05</th>\n",
       "      <td>66.349998</td>\n",
       "      <td>65.440002</td>\n",
       "      <td>66.300003</td>\n",
       "      <td>65.559998</td>\n",
       "      <td>21448600.0</td>\n",
       "      <td>62.324734</td>\n",
       "    </tr>\n",
       "    <tr>\n",
       "      <th>2017-04-06</th>\n",
       "      <td>66.059998</td>\n",
       "      <td>65.480003</td>\n",
       "      <td>65.599998</td>\n",
       "      <td>65.730003</td>\n",
       "      <td>18103500.0</td>\n",
       "      <td>62.486347</td>\n",
       "    </tr>\n",
       "    <tr>\n",
       "      <th>2017-04-07</th>\n",
       "      <td>65.959999</td>\n",
       "      <td>65.440002</td>\n",
       "      <td>65.849998</td>\n",
       "      <td>65.680000</td>\n",
       "      <td>14108500.0</td>\n",
       "      <td>62.438808</td>\n",
       "    </tr>\n",
       "  </tbody>\n",
       "</table>\n",
       "<p>1620 rows × 6 columns</p>\n",
       "</div>"
      ],
      "text/plain": [
       "                 High        Low       Open      Close       Volume  Adj Close\n",
       "Date                                                                          \n",
       "2010-11-01  27.219999  26.700001  26.879999  26.950001   61912100.0  21.463259\n",
       "2010-11-02  27.420000  27.020000  27.059999  27.389999   54402100.0  21.813683\n",
       "2010-11-03  27.490000  26.959999  27.459999  27.030001  110255300.0  21.526970\n",
       "2010-11-04  27.430000  27.010000  27.410000  27.139999   93599300.0  21.614580\n",
       "2010-11-05  27.190001  26.530001  27.170000  26.850000  110953700.0  21.383619\n",
       "...               ...        ...        ...        ...          ...        ...\n",
       "2017-04-03  65.940002  65.190002  65.809998  65.550003   20400900.0  62.315228\n",
       "2017-04-04  65.809998  65.279999  65.389999  65.730003   12997400.0  62.486347\n",
       "2017-04-05  66.349998  65.440002  66.300003  65.559998   21448600.0  62.324734\n",
       "2017-04-06  66.059998  65.480003  65.599998  65.730003   18103500.0  62.486347\n",
       "2017-04-07  65.959999  65.440002  65.849998  65.680000   14108500.0  62.438808\n",
       "\n",
       "[1620 rows x 6 columns]"
      ]
     },
     "execution_count": 88,
     "metadata": {},
     "output_type": "execute_result"
    }
   ],
   "source": [
    "stock"
   ]
  },
  {
   "cell_type": "code",
   "execution_count": 89,
   "metadata": {},
   "outputs": [
    {
     "data": {
      "text/plain": [
       "[DatetimeIndex(['2010-11-01', '2010-11-02', '2010-11-03', '2010-11-04',\n",
       "                '2010-11-05', '2010-11-08', '2010-11-09', '2010-11-10',\n",
       "                '2010-11-11', '2010-11-12',\n",
       "                ...\n",
       "                '2017-03-27', '2017-03-28', '2017-03-29', '2017-03-30',\n",
       "                '2017-03-31', '2017-04-03', '2017-04-04', '2017-04-05',\n",
       "                '2017-04-06', '2017-04-07'],\n",
       "               dtype='datetime64[ns]', name='Date', length=1620, freq=None),\n",
       " Index(['High', 'Low', 'Open', 'Close', 'Volume', 'Adj Close'], dtype='object')]"
      ]
     },
     "execution_count": 89,
     "metadata": {},
     "output_type": "execute_result"
    }
   ],
   "source": [
    "stock.axes"
   ]
  },
  {
   "cell_type": "code",
   "execution_count": 97,
   "metadata": {},
   "outputs": [
    {
     "data": {
      "text/html": [
       "<div>\n",
       "<style scoped>\n",
       "    .dataframe tbody tr th:only-of-type {\n",
       "        vertical-align: middle;\n",
       "    }\n",
       "\n",
       "    .dataframe tbody tr th {\n",
       "        vertical-align: top;\n",
       "    }\n",
       "\n",
       "    .dataframe thead th {\n",
       "        text-align: right;\n",
       "    }\n",
       "</style>\n",
       "<table border=\"1\" class=\"dataframe\">\n",
       "  <thead>\n",
       "    <tr style=\"text-align: right;\">\n",
       "      <th></th>\n",
       "      <th>High</th>\n",
       "      <th>Low</th>\n",
       "      <th>Open</th>\n",
       "      <th>Close</th>\n",
       "      <th>Volume</th>\n",
       "      <th>Adj Close</th>\n",
       "    </tr>\n",
       "  </thead>\n",
       "  <tbody>\n",
       "    <tr>\n",
       "      <th>2010-11-01</th>\n",
       "      <td>27.219999</td>\n",
       "      <td>26.700001</td>\n",
       "      <td>26.879999</td>\n",
       "      <td>26.950001</td>\n",
       "      <td>61912100.0</td>\n",
       "      <td>21.463259</td>\n",
       "    </tr>\n",
       "    <tr>\n",
       "      <th>2010-11-08</th>\n",
       "      <td>28.870001</td>\n",
       "      <td>26.580000</td>\n",
       "      <td>26.680000</td>\n",
       "      <td>26.809999</td>\n",
       "      <td>71670800.0</td>\n",
       "      <td>21.351761</td>\n",
       "    </tr>\n",
       "    <tr>\n",
       "      <th>2010-11-15</th>\n",
       "      <td>26.500000</td>\n",
       "      <td>26.170000</td>\n",
       "      <td>26.330000</td>\n",
       "      <td>26.200001</td>\n",
       "      <td>51794600.0</td>\n",
       "      <td>20.865948</td>\n",
       "    </tr>\n",
       "    <tr>\n",
       "      <th>2010-11-22</th>\n",
       "      <td>25.740000</td>\n",
       "      <td>25.440001</td>\n",
       "      <td>25.650000</td>\n",
       "      <td>25.730000</td>\n",
       "      <td>53350500.0</td>\n",
       "      <td>20.617542</td>\n",
       "    </tr>\n",
       "    <tr>\n",
       "      <th>2010-11-29</th>\n",
       "      <td>25.420000</td>\n",
       "      <td>24.930000</td>\n",
       "      <td>25.190001</td>\n",
       "      <td>25.309999</td>\n",
       "      <td>56603600.0</td>\n",
       "      <td>20.281002</td>\n",
       "    </tr>\n",
       "  </tbody>\n",
       "</table>\n",
       "</div>"
      ],
      "text/plain": [
       "                 High        Low       Open      Close      Volume  Adj Close\n",
       "2010-11-01  27.219999  26.700001  26.879999  26.950001  61912100.0  21.463259\n",
       "2010-11-08  28.870001  26.580000  26.680000  26.809999  71670800.0  21.351761\n",
       "2010-11-15  26.500000  26.170000  26.330000  26.200001  51794600.0  20.865948\n",
       "2010-11-22  25.740000  25.440001  25.650000  25.730000  53350500.0  20.617542\n",
       "2010-11-29  25.420000  24.930000  25.190001  25.309999  56603600.0  20.281002"
      ]
     },
     "execution_count": 97,
     "metadata": {},
     "output_type": "execute_result"
    }
   ],
   "source": [
    "# stock values on every Week - Monday\n",
    "stock.loc[pd.date_range(start='2010-11-01',end='2010-12-01',freq='W-Mon')]"
   ]
  },
  {
   "cell_type": "code",
   "execution_count": 102,
   "metadata": {},
   "outputs": [],
   "source": [
    "bday = pd.Series(pd.date_range(start='1980-08-14',end='2050-08-14',freq=pd.DateOffset(years=1)))"
   ]
  },
  {
   "cell_type": "code",
   "execution_count": 107,
   "metadata": {},
   "outputs": [],
   "source": [
    "bdf = pd.concat([bday,bday.dt.weekday_name],axis=1)"
   ]
  },
  {
   "cell_type": "code",
   "execution_count": 108,
   "metadata": {},
   "outputs": [
    {
     "data": {
      "text/html": [
       "<div>\n",
       "<style scoped>\n",
       "    .dataframe tbody tr th:only-of-type {\n",
       "        vertical-align: middle;\n",
       "    }\n",
       "\n",
       "    .dataframe tbody tr th {\n",
       "        vertical-align: top;\n",
       "    }\n",
       "\n",
       "    .dataframe thead th {\n",
       "        text-align: right;\n",
       "    }\n",
       "</style>\n",
       "<table border=\"1\" class=\"dataframe\">\n",
       "  <thead>\n",
       "    <tr style=\"text-align: right;\">\n",
       "      <th></th>\n",
       "      <th>0</th>\n",
       "      <th>1</th>\n",
       "    </tr>\n",
       "  </thead>\n",
       "  <tbody>\n",
       "    <tr>\n",
       "      <th>0</th>\n",
       "      <td>1980-08-14</td>\n",
       "      <td>Thursday</td>\n",
       "    </tr>\n",
       "    <tr>\n",
       "      <th>1</th>\n",
       "      <td>1981-08-14</td>\n",
       "      <td>Friday</td>\n",
       "    </tr>\n",
       "    <tr>\n",
       "      <th>2</th>\n",
       "      <td>1982-08-14</td>\n",
       "      <td>Saturday</td>\n",
       "    </tr>\n",
       "    <tr>\n",
       "      <th>3</th>\n",
       "      <td>1983-08-14</td>\n",
       "      <td>Sunday</td>\n",
       "    </tr>\n",
       "    <tr>\n",
       "      <th>4</th>\n",
       "      <td>1984-08-14</td>\n",
       "      <td>Tuesday</td>\n",
       "    </tr>\n",
       "    <tr>\n",
       "      <th>...</th>\n",
       "      <td>...</td>\n",
       "      <td>...</td>\n",
       "    </tr>\n",
       "    <tr>\n",
       "      <th>66</th>\n",
       "      <td>2046-08-14</td>\n",
       "      <td>Tuesday</td>\n",
       "    </tr>\n",
       "    <tr>\n",
       "      <th>67</th>\n",
       "      <td>2047-08-14</td>\n",
       "      <td>Wednesday</td>\n",
       "    </tr>\n",
       "    <tr>\n",
       "      <th>68</th>\n",
       "      <td>2048-08-14</td>\n",
       "      <td>Friday</td>\n",
       "    </tr>\n",
       "    <tr>\n",
       "      <th>69</th>\n",
       "      <td>2049-08-14</td>\n",
       "      <td>Saturday</td>\n",
       "    </tr>\n",
       "    <tr>\n",
       "      <th>70</th>\n",
       "      <td>2050-08-14</td>\n",
       "      <td>Sunday</td>\n",
       "    </tr>\n",
       "  </tbody>\n",
       "</table>\n",
       "<p>71 rows × 2 columns</p>\n",
       "</div>"
      ],
      "text/plain": [
       "            0          1\n",
       "0  1980-08-14   Thursday\n",
       "1  1981-08-14     Friday\n",
       "2  1982-08-14   Saturday\n",
       "3  1983-08-14     Sunday\n",
       "4  1984-08-14    Tuesday\n",
       "..        ...        ...\n",
       "66 2046-08-14    Tuesday\n",
       "67 2047-08-14  Wednesday\n",
       "68 2048-08-14     Friday\n",
       "69 2049-08-14   Saturday\n",
       "70 2050-08-14     Sunday\n",
       "\n",
       "[71 rows x 2 columns]"
      ]
     },
     "execution_count": 108,
     "metadata": {},
     "output_type": "execute_result"
    }
   ],
   "source": [
    "bdf"
   ]
  },
  {
   "cell_type": "code",
   "execution_count": 111,
   "metadata": {},
   "outputs": [],
   "source": [
    "oneyr =  pd.datetime.now() + pd.DateOffset(years=1)"
   ]
  },
  {
   "cell_type": "code",
   "execution_count": 113,
   "metadata": {},
   "outputs": [],
   "source": [
    "td = oneyr - pd.datetime.now()"
   ]
  },
  {
   "cell_type": "code",
   "execution_count": 120,
   "metadata": {},
   "outputs": [
    {
     "data": {
      "text/plain": [
       "86377"
      ]
     },
     "execution_count": 120,
     "metadata": {},
     "output_type": "execute_result"
    }
   ],
   "source": []
  },
  {
   "cell_type": "code",
   "execution_count": 123,
   "metadata": {},
   "outputs": [
    {
     "data": {
      "text/plain": [
       "Timestamp('2020-03-31 13:44:37.462810')"
      ]
     },
     "execution_count": 123,
     "metadata": {},
     "output_type": "execute_result"
    }
   ],
   "source": [
    "pd.datetime.now() - pd.tseries.offsets.MonthEnd()"
   ]
  },
  {
   "cell_type": "code",
   "execution_count": 125,
   "metadata": {},
   "outputs": [
    {
     "data": {
      "text/plain": [
       "Timestamp('2020-05-01 13:45:37.431624')"
      ]
     },
     "execution_count": 125,
     "metadata": {},
     "output_type": "execute_result"
    }
   ],
   "source": [
    "pd.datetime.now() + pd.tseries.offsets.MonthBegin()"
   ]
  },
  {
   "cell_type": "code",
   "execution_count": null,
   "metadata": {},
   "outputs": [],
   "source": [
    "pd.tseries"
   ]
  }
 ],
 "metadata": {
  "kernelspec": {
   "display_name": "Python 3",
   "language": "python",
   "name": "python3"
  },
  "language_info": {
   "codemirror_mode": {
    "name": "ipython",
    "version": 3
   },
   "file_extension": ".py",
   "mimetype": "text/x-python",
   "name": "python",
   "nbconvert_exporter": "python",
   "pygments_lexer": "ipython3",
   "version": "3.8.1"
  }
 },
 "nbformat": 4,
 "nbformat_minor": 4
}
