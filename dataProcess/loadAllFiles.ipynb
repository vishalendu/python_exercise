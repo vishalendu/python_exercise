{
 "cells": [
  {
   "cell_type": "code",
   "execution_count": 1,
   "metadata": {},
   "outputs": [
    {
     "name": "stdout",
     "output_type": "stream",
     "text": [
      "aaaaa\n"
     ]
    }
   ],
   "source": [
    "x = \"a\"\n",
    "print(x*5)"
   ]
  },
  {
   "cell_type": "code",
   "execution_count": 2,
   "metadata": {},
   "outputs": [],
   "source": []
  },
  {
   "cell_type": "code",
   "execution_count": 3,
   "metadata": {},
   "outputs": [],
   "source": [
    "import pandas as pd\n",
    "import os,glob\n",
    "\n",
    "def convertSD2CSV(indir,outdir='./data'):\n",
    "    fileList = glob.glob(indir+'/0100*')\n",
    "    for file in fileList:\n",
    "        df = pd.read_csv(file,sep='\\s+',header=None)\n",
    "        station = os.path.basename(file).rsplit('-',1)[0]\n",
    "        print(f'File found = {file} station = {station}')    \n",
    "        df['station'] = station\n",
    "        df.to_csv(outdir+'/'+os.path.basename(file)+'.csv',header=None,index=None)"
   ]
  },
  {
   "cell_type": "code",
   "execution_count": 4,
   "metadata": {},
   "outputs": [
    {
     "name": "stdout",
     "output_type": "stream",
     "text": [
      "File found = ./in/output/010010-99999-2012 station = 010010-99999\n",
      "File found = ./in/output/010014-99999-2010 station = 010014-99999\n",
      "File found = ./in/output/010010-99999-2014 station = 010010-99999\n",
      "File found = ./in/output/010010-99999-2013 station = 010010-99999\n",
      "File found = ./in/output/010014-99999-2011 station = 010014-99999\n",
      "File found = ./in/output/010020-99999-2014 station = 010020-99999\n",
      "File found = ./in/output/010020-99999-2013 station = 010020-99999\n",
      "File found = ./in/output/010020-99999-2012 station = 010020-99999\n",
      "File found = ./in/output/010015-99999-2010 station = 010015-99999\n",
      "File found = ./in/output/010015-99999-2011 station = 010015-99999\n",
      "File found = ./in/output/010014-99999-2014 station = 010014-99999\n",
      "File found = ./in/output/010014-99999-2013 station = 010014-99999\n",
      "File found = ./in/output/010010-99999-2011 station = 010010-99999\n",
      "File found = ./in/output/010014-99999-2012 station = 010014-99999\n",
      "File found = ./in/output/010010-99999-2010 station = 010010-99999\n",
      "File found = ./in/output/010020-99999-2010 station = 010020-99999\n",
      "File found = ./in/output/010020-99999-2011 station = 010020-99999\n"
     ]
    }
   ],
   "source": [
    "convertSD2CSV(indir='./in/output')"
   ]
  },
  {
   "cell_type": "code",
   "execution_count": 41,
   "metadata": {},
   "outputs": [],
   "source": [
    "import pandas as pd\n",
    "import os,glob,csv\n",
    "\n",
    "def concatCSV(indir,outdir='./data/output'):\n",
    "    fileList = glob.glob(indir+'/*.csv')\n",
    "    colnames = ['Year','Month','Day','Hour','Temp','DewTemp','Pressure','WindDir','WindSpeed',\\\n",
    "               'Sky','Precip1','Precip6','Station']\n",
    "    dfList  = []\n",
    "    for file in fileList:\n",
    "        df = pd.read_csv(file,header=None)\n",
    "        dfList.append(df)\n",
    "    Finaldf = pd.concat(dfList)\n",
    "    Finaldf.columns = colnames\n",
    "    Finaldf.to_csv(outdir+'/weather-data-combined.csv',index=None)\n",
    "        "
   ]
  },
  {
   "cell_type": "code",
   "execution_count": 38,
   "metadata": {},
   "outputs": [],
   "source": [
    "concatCSV('./data')"
   ]
  },
  {
   "cell_type": "markdown",
   "metadata": {},
   "source": [
    "# TRYING TO NOT READ ALL DF AT THE SAME TIME"
   ]
  },
  {
   "cell_type": "code",
   "execution_count": 49,
   "metadata": {},
   "outputs": [],
   "source": [
    "import pandas as pd\n",
    "import os,glob,csv\n",
    "\n",
    "def concatCSV1(indir,outdir='./data/output'):\n",
    "    fileList = glob.glob(indir+'/*.csv')\n",
    "    colnames = ['Year','Month','Day','Hour','Temp','DewTemp','Pressure','WindDir','WindSpeed',\\\n",
    "               'Sky','Precip1','Precip6','Station']\n",
    "    dfList  = []\n",
    "    HeaderSet = False\n",
    "    for file in fileList:\n",
    "        df = pd.read_csv(file,header=None)\n",
    "        if HeaderSet == False:\n",
    "            df.columns = colnames\n",
    "            df.to_csv(outdir+'/weather-data-combined1.csv',index=None)\n",
    "            HeaderSet=True\n",
    "        else:\n",
    "            df.to_csv(outdir+'/weather-data-combined1.csv',header=None,index=None,mode='a')"
   ]
  },
  {
   "cell_type": "code",
   "execution_count": 48,
   "metadata": {},
   "outputs": [],
   "source": [
    "concatCSV1('./data')"
   ]
  },
  {
   "cell_type": "markdown",
   "metadata": {},
   "source": [
    "# Exercise merging excel to csv"
   ]
  },
  {
   "cell_type": "code",
   "execution_count": 56,
   "metadata": {},
   "outputs": [],
   "source": [
    "import pandas as pd\n",
    "import os,glob\n",
    "\n",
    "def mergeXLS2CSV(indir='./data/income/original',outdir='./data/income/original/output'):\n",
    "    fileList = glob.glob(indir+'/*.xls')\n",
    "    dfList = []\n",
    "    for file in fileList:\n",
    "        df = pd.read_excel(file,skiprows=[0,1,2])\n",
    "        dfList.append(df)\n",
    "    dfConc = pd.concat(dfList,axis=1)\n",
    "    print(f'Final Shape = {dfConc.shape}')\n",
    "    dfConc.to_csv(outdir+'/income-by-state-combined-1984-2013.csv',index=None)\n"
   ]
  },
  {
   "cell_type": "code",
   "execution_count": 57,
   "metadata": {},
   "outputs": [
    {
     "name": "stdout",
     "output_type": "stream",
     "text": [
      "Final Shape = (50, 60)\n"
     ]
    }
   ],
   "source": [
    "mergeXLS2CSV()"
   ]
  },
  {
   "cell_type": "markdown",
   "metadata": {},
   "source": [
    "# Trying to combine using GEOID column"
   ]
  },
  {
   "cell_type": "code",
   "execution_count": 58,
   "metadata": {},
   "outputs": [],
   "source": [
    "import pandas as pd\n",
    "import os,glob\n",
    "\n",
    "def mergeXLS2CSV1(indir='./data/income/original',outdir='./data/income/original/output'):\n",
    "    fileList = glob.glob(indir+'/*.xls')\n",
    "    dfList = []\n",
    "    for file in fileList:\n",
    "        df = pd.read_excel(file,skiprows=[0,1,2],index_col='GEOID')\n",
    "        dfList.append(df)\n",
    "    dfConc = pd.concat(dfList,axis=1)\n",
    "    print(f'Final Shape = {dfConc.shape}')\n",
    "    dfConc.to_csv(outdir+'/income-by-state-combined-1984-2013-1.csv')"
   ]
  },
  {
   "cell_type": "code",
   "execution_count": 59,
   "metadata": {},
   "outputs": [
    {
     "name": "stdout",
     "output_type": "stream",
     "text": [
      "Final Shape = (50, 30)\n"
     ]
    }
   ],
   "source": [
    "mergeXLS2CSV1()"
   ]
  },
  {
   "cell_type": "code",
   "execution_count": null,
   "metadata": {},
   "outputs": [],
   "source": []
  }
 ],
 "metadata": {
  "kernelspec": {
   "display_name": "Python 3",
   "language": "python",
   "name": "python3"
  },
  "language_info": {
   "codemirror_mode": {
    "name": "ipython",
    "version": 3
   },
   "file_extension": ".py",
   "mimetype": "text/x-python",
   "name": "python",
   "nbconvert_exporter": "python",
   "pygments_lexer": "ipython3",
   "version": "3.8.1"
  }
 },
 "nbformat": 4,
 "nbformat_minor": 4
}
