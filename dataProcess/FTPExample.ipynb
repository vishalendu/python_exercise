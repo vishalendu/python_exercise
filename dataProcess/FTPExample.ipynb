{
 "cells": [
  {
   "cell_type": "code",
   "execution_count": 1,
   "metadata": {},
   "outputs": [],
   "source": [
    "from ftplib import FTP\n",
    "import os\n",
    "\n",
    "def FileDownloader(website,username,password,filename):\n",
    "    ftp = FTP(website,username, password)\n",
    "    #ftp.login()\n",
    "    ftp.cwd('Data')\n",
    "    os.chdir(os.getcwd()+'/files/')\n",
    "    print(ftp.nlst())\n",
    "    with open(filename,'wb') as file:\n",
    "        ftp.retrbinary('RETR '+filename,file.write)\n",
    "    ftp.close()\n",
    "    os.chdir('..')"
   ]
  },
  {
   "cell_type": "code",
   "execution_count": 2,
   "metadata": {},
   "outputs": [
    {
     "name": "stdout",
     "output_type": "stream",
     "text": [
      "['.', '..', '1901', '1902', '1903', '1904', '1905', '1906', '1907', '1908', '1909', '1910', '1911', '1912', '1913', '1914', '1915', '1916', '1917', '1918', '1919', '1920', '1921', '1922', '1923', '1924', '1925', '1926', '1927', '1928', '1929', '1930', '1931', '1932', '1933', '1934', '1935', '1936', '1937', '1938', '1939', '1940', '1941', '1942', '1943', '1944', '1945', '1946', '1947', '1948', '1949', '1950', '1951', '1952', '1953', '1954', '1955', '1956', '1957', '1958', '1959', '1960', '1961', '1962', '1963', '1964', '1965', '1966', '1967', '1968', '1969', '1970', '1971', '1972', '1973', '1974', '1975', '1976', '1977', '1978', '1979', '1980', '1981', '1982', '1983', '1984', '1985', '1986', '1987', '1988', '1989', '1990', '1991', '1992', '1993', '1994', '1995', '1996', '1997', '1998', '1999', '2000', '2001', '2002', '2003', '2004', '2005', '2006', '2007', '2008', '2009', '2010', '2011', '2012', '2013', '2014', '2015', 'data-format.txt', 'data-technical-document.txt', 'isd-lite-format.pdf', 'station-info-metadata.txt', 'station-info.txt']\n"
     ]
    }
   ],
   "source": [
    "FileDownloader('ftp.pyclass.com','student@pyclass.com','student123','isd-lite-format.pdf')"
   ]
  },
  {
   "cell_type": "code",
   "execution_count": null,
   "metadata": {},
   "outputs": [],
   "source": []
  },
  {
   "cell_type": "code",
   "execution_count": 12,
   "metadata": {},
   "outputs": [],
   "source": [
    "from ftplib import FTP,error_perm\n",
    "import os\n",
    "\n",
    "def WeatherFileDownloader(StationID,startyear,endyear,website,username,password):\n",
    "    os.chdir('/Users/vishalendupandey/projects/python/dataProcess/')\n",
    "    ftp = FTP(website,username, password)\n",
    "    if not os.path.exists('./in'):\n",
    "        os.makedirs('in')\n",
    "    os.chdir(os.getcwd()+'/in/')\n",
    "    for year in range(startyear,endyear+1):\n",
    "        fullpath = f'/Data/{year}/{StationID}-{year}.gz'\n",
    "        filename = os.path.basename(fullpath)\n",
    "        try:    \n",
    "            with open(filename,'wb') as file:\n",
    "                ftp.retrbinary('RETR '+fullpath,file.write)\n",
    "            print(f'{fullpath} downloaded successfully')\n",
    "        except error_perm:\n",
    "            print(f'{fullpath} doesnt exist on remote server')\n",
    "            os.remove(filename)\n",
    "    ftp.close()"
   ]
  },
  {
   "cell_type": "code",
   "execution_count": 14,
   "metadata": {},
   "outputs": [
    {
     "name": "stdout",
     "output_type": "stream",
     "text": [
      "/Data/2010/010010-99999-2010.gz downloaded successfully\n",
      "/Data/2011/010010-99999-2011.gz downloaded successfully\n",
      "/Data/2012/010010-99999-2012.gz downloaded successfully\n",
      "/Data/2013/010010-99999-2013.gz downloaded successfully\n",
      "/Data/2014/010010-99999-2014.gz downloaded successfully\n",
      "/Data/2010/010014-99999-2010.gz downloaded successfully\n",
      "/Data/2011/010014-99999-2011.gz downloaded successfully\n",
      "/Data/2012/010014-99999-2012.gz downloaded successfully\n",
      "/Data/2013/010014-99999-2013.gz downloaded successfully\n",
      "/Data/2014/010014-99999-2014.gz downloaded successfully\n",
      "/Data/2010/010015-99999-2010.gz downloaded successfully\n",
      "/Data/2011/010015-99999-2011.gz downloaded successfully\n",
      "/Data/2012/010015-99999-2012.gz doesnt exist on remote server\n",
      "/Data/2013/010015-99999-2013.gz doesnt exist on remote server\n",
      "/Data/2014/010015-99999-2014.gz doesnt exist on remote server\n",
      "/Data/2010/010020-99999-2010.gz downloaded successfully\n",
      "/Data/2011/010020-99999-2011.gz downloaded successfully\n",
      "/Data/2012/010020-99999-2012.gz downloaded successfully\n",
      "/Data/2013/010020-99999-2013.gz downloaded successfully\n",
      "/Data/2014/010020-99999-2014.gz downloaded successfully\n"
     ]
    }
   ],
   "source": [
    "\n",
    "#WeatherFileDownloader('010010-99999',2010,2014,'ftp.pyclass.com','student@pyclass.com','student123')\n",
    "for name in ['010010','010014','010015','010020']:\n",
    "    WeatherFileDownloader(name+'-99999',2010,2014,'ftp.pyclass.com',\\\n",
    "                          'student@pyclass.com','student123')"
   ]
  },
  {
   "cell_type": "code",
   "execution_count": null,
   "metadata": {},
   "outputs": [],
   "source": []
  }
 ],
 "metadata": {
  "kernelspec": {
   "display_name": "Python 3",
   "language": "python",
   "name": "python3"
  },
  "language_info": {
   "codemirror_mode": {
    "name": "ipython",
    "version": 3
   },
   "file_extension": ".py",
   "mimetype": "text/x-python",
   "name": "python",
   "nbconvert_exporter": "python",
   "pygments_lexer": "ipython3",
   "version": "3.8.1"
  }
 },
 "nbformat": 4,
 "nbformat_minor": 4
}
