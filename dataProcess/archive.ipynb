{
 "cells": [
  {
   "cell_type": "code",
   "execution_count": 3,
   "metadata": {},
   "outputs": [],
   "source": [
    "import patoolib as pt\n",
    "import glob\n",
    "import os"
   ]
  },
  {
   "cell_type": "code",
   "execution_count": 28,
   "metadata": {},
   "outputs": [],
   "source": [
    "def extractArchive(source,target,ftype):\n",
    "    if not os.path.exists(target):\n",
    "        os.mkdir(target)\n",
    "    for fname in glob.glob(source+'/*.'+ftype):\n",
    "        if not os.path.exists(target+'/'+os.path.basename(fname[:-3])):\n",
    "            print(f'{fname[:-3]} doesnt exit.. extracting *************')\n",
    "            pt.extract_archive(fname,outdir=target)\n"
   ]
  },
  {
   "cell_type": "code",
   "execution_count": 29,
   "metadata": {},
   "outputs": [
    {
     "name": "stdout",
     "output_type": "stream",
     "text": [
      "./in/010020-99999-2012 doesnt exit.. extracting *************\n",
      "patool: Extracting ./in/010020-99999-2012.gz ...\n",
      "patool: running '/usr/bin/gzip' -c -d -- './in/010020-99999-2012.gz' > './in/output/010020-99999-2012'\n",
      "patool:     with shell='True'\n",
      "patool: ... ./in/010020-99999-2012.gz extracted to `./in/output'.\n",
      "./in/010020-99999-2013 doesnt exit.. extracting *************\n",
      "patool: Extracting ./in/010020-99999-2013.gz ...\n",
      "patool: running '/usr/bin/gzip' -c -d -- './in/010020-99999-2013.gz' > './in/output/010020-99999-2013'\n",
      "patool:     with shell='True'\n",
      "patool: ... ./in/010020-99999-2013.gz extracted to `./in/output'.\n",
      "./in/010010-99999-2012 doesnt exit.. extracting *************\n",
      "patool: Extracting ./in/010010-99999-2012.gz ...\n",
      "patool: running '/usr/bin/gzip' -c -d -- './in/010010-99999-2012.gz' > './in/output/010010-99999-2012'\n",
      "patool:     with shell='True'\n",
      "patool: ... ./in/010010-99999-2012.gz extracted to `./in/output'.\n",
      "./in/010015-99999-2011 doesnt exit.. extracting *************\n",
      "patool: Extracting ./in/010015-99999-2011.gz ...\n",
      "patool: running '/usr/bin/gzip' -c -d -- './in/010015-99999-2011.gz' > './in/output/010015-99999-2011'\n",
      "patool:     with shell='True'\n",
      "patool: ... ./in/010015-99999-2011.gz extracted to `./in/output'.\n",
      "./in/010014-99999-2012 doesnt exit.. extracting *************\n",
      "patool: Extracting ./in/010014-99999-2012.gz ...\n",
      "patool: running '/usr/bin/gzip' -c -d -- './in/010014-99999-2012.gz' > './in/output/010014-99999-2012'\n",
      "patool:     with shell='True'\n",
      "patool: ... ./in/010014-99999-2012.gz extracted to `./in/output'.\n",
      "./in/010010-99999-2013 doesnt exit.. extracting *************\n",
      "patool: Extracting ./in/010010-99999-2013.gz ...\n",
      "patool: running '/usr/bin/gzip' -c -d -- './in/010010-99999-2013.gz' > './in/output/010010-99999-2013'\n",
      "patool:     with shell='True'\n",
      "patool: ... ./in/010010-99999-2013.gz extracted to `./in/output'.\n",
      "./in/010015-99999-2010 doesnt exit.. extracting *************\n",
      "patool: Extracting ./in/010015-99999-2010.gz ...\n",
      "patool: running '/usr/bin/gzip' -c -d -- './in/010015-99999-2010.gz' > './in/output/010015-99999-2010'\n",
      "patool:     with shell='True'\n",
      "patool: ... ./in/010015-99999-2010.gz extracted to `./in/output'.\n",
      "./in/010014-99999-2013 doesnt exit.. extracting *************\n",
      "patool: Extracting ./in/010014-99999-2013.gz ...\n",
      "patool: running '/usr/bin/gzip' -c -d -- './in/010014-99999-2013.gz' > './in/output/010014-99999-2013'\n",
      "patool:     with shell='True'\n",
      "patool: ... ./in/010014-99999-2013.gz extracted to `./in/output'.\n",
      "./in/010010-99999-2014 doesnt exit.. extracting *************\n",
      "patool: Extracting ./in/010010-99999-2014.gz ...\n",
      "patool: running '/usr/bin/gzip' -c -d -- './in/010010-99999-2014.gz' > './in/output/010010-99999-2014'\n",
      "patool:     with shell='True'\n",
      "patool: ... ./in/010010-99999-2014.gz extracted to `./in/output'.\n",
      "./in/010014-99999-2014 doesnt exit.. extracting *************\n",
      "patool: Extracting ./in/010014-99999-2014.gz ...\n",
      "patool: running '/usr/bin/gzip' -c -d -- './in/010014-99999-2014.gz' > './in/output/010014-99999-2014'\n",
      "patool:     with shell='True'\n",
      "patool: ... ./in/010014-99999-2014.gz extracted to `./in/output'.\n",
      "./in/010010-99999-2010 doesnt exit.. extracting *************\n",
      "patool: Extracting ./in/010010-99999-2010.gz ...\n",
      "patool: running '/usr/bin/gzip' -c -d -- './in/010010-99999-2010.gz' > './in/output/010010-99999-2010'\n",
      "patool:     with shell='True'\n",
      "patool: ... ./in/010010-99999-2010.gz extracted to `./in/output'.\n",
      "./in/010014-99999-2010 doesnt exit.. extracting *************\n",
      "patool: Extracting ./in/010014-99999-2010.gz ...\n",
      "patool: running '/usr/bin/gzip' -c -d -- './in/010014-99999-2010.gz' > './in/output/010014-99999-2010'\n",
      "patool:     with shell='True'\n",
      "patool: ... ./in/010014-99999-2010.gz extracted to `./in/output'.\n",
      "./in/010010-99999-2011 doesnt exit.. extracting *************\n",
      "patool: Extracting ./in/010010-99999-2011.gz ...\n",
      "patool: running '/usr/bin/gzip' -c -d -- './in/010010-99999-2011.gz' > './in/output/010010-99999-2011'\n",
      "patool:     with shell='True'\n",
      "patool: ... ./in/010010-99999-2011.gz extracted to `./in/output'.\n",
      "./in/010014-99999-2011 doesnt exit.. extracting *************\n",
      "patool: Extracting ./in/010014-99999-2011.gz ...\n",
      "patool: running '/usr/bin/gzip' -c -d -- './in/010014-99999-2011.gz' > './in/output/010014-99999-2011'\n",
      "patool:     with shell='True'\n",
      "patool: ... ./in/010014-99999-2011.gz extracted to `./in/output'.\n",
      "./in/010020-99999-2014 doesnt exit.. extracting *************\n",
      "patool: Extracting ./in/010020-99999-2014.gz ...\n",
      "patool: running '/usr/bin/gzip' -c -d -- './in/010020-99999-2014.gz' > './in/output/010020-99999-2014'\n",
      "patool:     with shell='True'\n",
      "patool: ... ./in/010020-99999-2014.gz extracted to `./in/output'.\n",
      "./in/010020-99999-2010 doesnt exit.. extracting *************\n",
      "patool: Extracting ./in/010020-99999-2010.gz ...\n",
      "patool: running '/usr/bin/gzip' -c -d -- './in/010020-99999-2010.gz' > './in/output/010020-99999-2010'\n",
      "patool:     with shell='True'\n",
      "patool: ... ./in/010020-99999-2010.gz extracted to `./in/output'.\n",
      "./in/010020-99999-2011 doesnt exit.. extracting *************\n",
      "patool: Extracting ./in/010020-99999-2011.gz ...\n",
      "patool: running '/usr/bin/gzip' -c -d -- './in/010020-99999-2011.gz' > './in/output/010020-99999-2011'\n",
      "patool:     with shell='True'\n",
      "patool: ... ./in/010020-99999-2011.gz extracted to `./in/output'.\n"
     ]
    }
   ],
   "source": [
    "extractArchive('./in','./in/output','gz')"
   ]
  },
  {
   "cell_type": "code",
   "execution_count": 26,
   "metadata": {},
   "outputs": [
    {
     "data": {
      "text/plain": [
       "['./in/010020-99999-2012.gz',\n",
       " './in/010020-99999-2013.gz',\n",
       " './in/010010-99999-2012.gz',\n",
       " './in/010015-99999-2011.gz',\n",
       " './in/010014-99999-2012.gz',\n",
       " './in/010010-99999-2013.gz',\n",
       " './in/010015-99999-2010.gz',\n",
       " './in/010014-99999-2013.gz',\n",
       " './in/010010-99999-2014.gz',\n",
       " './in/010014-99999-2014.gz',\n",
       " './in/010010-99999-2010.gz',\n",
       " './in/010014-99999-2010.gz',\n",
       " './in/010010-99999-2011.gz',\n",
       " './in/010014-99999-2011.gz',\n",
       " './in/010020-99999-2014.gz',\n",
       " './in/010020-99999-2010.gz',\n",
       " './in/010020-99999-2011.gz']"
      ]
     },
     "execution_count": 26,
     "metadata": {},
     "output_type": "execute_result"
    }
   ],
   "source": [
    "import glob\n",
    "\n",
    "glob.glob('./in/*.gz')"
   ]
  },
  {
   "cell_type": "code",
   "execution_count": null,
   "metadata": {},
   "outputs": [],
   "source": []
  }
 ],
 "metadata": {
  "kernelspec": {
   "display_name": "Python 3",
   "language": "python",
   "name": "python3"
  },
  "language_info": {
   "codemirror_mode": {
    "name": "ipython",
    "version": 3
   },
   "file_extension": ".py",
   "mimetype": "text/x-python",
   "name": "python",
   "nbconvert_exporter": "python",
   "pygments_lexer": "ipython3",
   "version": "3.8.1"
  }
 },
 "nbformat": 4,
 "nbformat_minor": 4
}
