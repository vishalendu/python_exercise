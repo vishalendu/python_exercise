{
 "cells": [
  {
   "cell_type": "code",
   "execution_count": 34,
   "metadata": {},
   "outputs": [],
   "source": [
    "import pandas as pd\n",
    "import os,glob\n",
    "\n",
    "def mergedf(leftfile='./data/output/Concatenated.csv',\\\n",
    "            rightfile='./data/output/station-info.csv',\\\n",
    "            outfile='./data/output/Concatenated-merged.csv'):\n",
    "    leftDF = pd.read_csv(leftfile)\n",
    "    rightDF = pd.read_fwf(rightfile,converters={'USAF':str,'WBAN':str})\n",
    "    rightDF['USAF_WBAN'] = rightDF['USAF']+\"-\"+rightDF['WBAN']\n",
    "    col = ['USAF_WBAN','STATION NAME','LAT','LON']\n",
    "    mergedDF = pd.merge(leftDF,rightDF[col],\\\n",
    "                       left_on='ID',right_on='USAF_WBAN')\n",
    "    print(f'shape = {mergedDF.shape}')\n",
    "    mergedDF.to_csv(outfile,index=None)"
   ]
  },
  {
   "cell_type": "code",
   "execution_count": 33,
   "metadata": {},
   "outputs": [
    {
     "name": "stdout",
     "output_type": "stream",
     "text": [
      "shape = (100074, 17)\n"
     ]
    }
   ],
   "source": [
    "mergedf()"
   ]
  },
  {
   "cell_type": "code",
   "execution_count": 20,
   "metadata": {},
   "outputs": [],
   "source": []
  },
  {
   "cell_type": "markdown",
   "metadata": {},
   "source": [
    "   # Exercise merging two files"
   ]
  },
  {
   "cell_type": "code",
   "execution_count": 37,
   "metadata": {},
   "outputs": [],
   "source": [
    "import pandas as pd\n",
    "\n",
    "def mergInc(right='./data/income/combined/IncomeByStateByYearNoDupl.csv',\\\n",
    "           left='./data/income/combined/Geoids and states.csv',\\\n",
    "           out = './data/income/combined/merged.csv'):\n",
    "    leftDF = pd.read_csv(left,index_col='GEOID')\n",
    "    rightDF = pd.read_csv(right,index_col='GEOID')\n",
    "    mergDF = pd.merge(leftDF,rightDF,left_index=True,right_index=True)\n",
    "    mergDF.to_csv(out)\n",
    "    \n",
    "    "
   ]
  },
  {
   "cell_type": "code",
   "execution_count": 38,
   "metadata": {},
   "outputs": [],
   "source": [
    "mergInc()"
   ]
  },
  {
   "cell_type": "code",
   "execution_count": null,
   "metadata": {},
   "outputs": [],
   "source": []
  }
 ],
 "metadata": {
  "kernelspec": {
   "display_name": "Python 3",
   "language": "python",
   "name": "python3"
  },
  "language_info": {
   "codemirror_mode": {
    "name": "ipython",
    "version": 3
   },
   "file_extension": ".py",
   "mimetype": "text/x-python",
   "name": "python",
   "nbconvert_exporter": "python",
   "pygments_lexer": "ipython3",
   "version": "3.8.1"
  }
 },
 "nbformat": 4,
 "nbformat_minor": 4
}
